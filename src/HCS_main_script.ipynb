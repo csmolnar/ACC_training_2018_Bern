{
 "cells": [
  {
   "cell_type": "code",
   "execution_count": 5,
   "metadata": {},
   "outputs": [],
   "source": [
    "import hcs_utils.ffc as ffc\n",
    "import hcs_utils.focus_detection as fd\n",
    "import hcs_utils.quality_control as qc\n",
    "import hcs_utils.refactoring as refactor\n",
    "import hcs_utils.segmentation as segm\n",
    "from config import config_vars"
   ]
  },
  {
   "cell_type": "code",
   "execution_count": 6,
   "metadata": {},
   "outputs": [
    {
     "data": {
      "text/plain": [
       "{'root_directory': 'f:/Projects/ACC_training',\n",
       " 'input_regexp': 'r{:02d}c{:02d}f{:02d}p*-ch{:d}*',\n",
       " 'output_regexp': '{:s}_w{:c}{:02d}_s{:02d}',\n",
       " 'ffc_method': 'CIDRE',\n",
       " 'focus_detection_method': 'best_plane',\n",
       " 'qc_fov_focus': False,\n",
       " 'qc_fov_saturation': False,\n",
       " 'qc_segmentation': False,\n",
       " 'raw_data_dir': 'f:/Projects/ACC_training\\\\0_raw_data/',\n",
       " 'corrected_data_dir': 'f:/Projects/ACC_training\\\\1_corrected/',\n",
       " 'focused_data_dir': 'f:/Projects/ACC_training\\\\3_focused/',\n",
       " 'segmented_data_dir': 'f:/Projects/ACC_training\\\\4_segmented/',\n",
       " 'qc_filtered': 'f:/Projects/ACC_training\\\\5_qc_filtered/',\n",
       " 'annotations_dir': 'f:/Projects/ACC_training\\\\6_annotations/',\n",
       " 'reports_dir': 'f:/Projects/ACC_training\\\\7_reports/'}"
      ]
     },
     "execution_count": 6,
     "metadata": {},
     "output_type": "execute_result"
    }
   ],
   "source": [
    "config_vars"
   ]
  },
  {
   "cell_type": "code",
   "execution_count": null,
   "metadata": {},
   "outputs": [],
   "source": []
  }
 ],
 "metadata": {
  "kernelspec": {
   "display_name": "Python 3",
   "language": "python",
   "name": "python3"
  },
  "language_info": {
   "codemirror_mode": {
    "name": "ipython",
    "version": 3
   },
   "file_extension": ".py",
   "mimetype": "text/x-python",
   "name": "python",
   "nbconvert_exporter": "python",
   "pygments_lexer": "ipython3",
   "version": "3.6.5"
  }
 },
 "nbformat": 4,
 "nbformat_minor": 2
}
